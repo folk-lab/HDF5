{
 "cells": [
  {
   "cell_type": "code",
   "execution_count": 1,
   "metadata": {
    "collapsed": false
   },
   "outputs": [
    {
     "name": "stdout",
     "output_type": "stream",
     "text": [
      "/Users/Christian/Documents/Chrede/UBC/Data/InXX_bottom_gates_Mar2016\n"
     ]
    }
   ],
   "source": [
    "cd ~/Documents/Chrede/UBC/Data/InXX_bottom_gates_Mar2016/"
   ]
  },
  {
   "cell_type": "code",
   "execution_count": 3,
   "metadata": {
    "collapsed": true
   },
   "outputs": [],
   "source": [
    "import glob"
   ]
  },
  {
   "cell_type": "code",
   "execution_count": 18,
   "metadata": {
    "collapsed": false
   },
   "outputs": [],
   "source": [
    "file_list = glob.glob('/Users/Christian/Documents/Chrede/UBC/Data/InXX_bottom_gates_Mar2016/*.ibw')\n",
    "wave_list = [i.split('/')[-1] for i in file_list]\n",
    "wave_list = [i.split('.ibw')[0] for i in wave_list]"
   ]
  },
  {
   "cell_type": "code",
   "execution_count": 4,
   "metadata": {
    "collapsed": false
   },
   "outputs": [],
   "source": [
    "winf_list_full = glob.glob('/Users/Christian/Documents/Chrede/UBC/Data/InXX_bottom_gates_Mar2016/winfs/*.winf')\n",
    "winf_list = [i.split('/')[-1] for i in winf_list_full]\n",
    "winf_list = [i.split('.')[0] for i in winf_list]"
   ]
  },
  {
   "cell_type": "code",
   "execution_count": 16,
   "metadata": {
    "collapsed": false
   },
   "outputs": [],
   "source": [
    "import re"
   ]
  },
  {
   "cell_type": "code",
   "execution_count": 19,
   "metadata": {
    "collapsed": false
   },
   "outputs": [
    {
     "name": "stdout",
     "output_type": "stream",
     "text": [
      "('dat100', 'g2d1x')\n"
     ]
    }
   ],
   "source": [
    "format_string = re.compile(\"([a-zA-Z]+[0-9]+)([a-zA-Z0-9]+)\")\n",
    "dat_list = [format_string.match(string).groups() for string in wave_list]\n",
    "print(dat_list[0])"
   ]
  },
  {
   "cell_type": "code",
   "execution_count": 22,
   "metadata": {
    "collapsed": false
   },
   "outputs": [
    {
     "name": "stdout",
     "output_type": "stream",
     "text": [
      "[108, 109]\n",
      "3\n"
     ]
    }
   ],
   "source": [
    "j = 1\n",
    "same_run = []\n",
    "for i in range(j,len(dat_list)):\n",
    "    if dat_list[i][0] == 'dat1':\n",
    "        same_run.append(i)\n",
    "print(same_run)\n",
    "j = j+len(same_run)\n",
    "print(j)"
   ]
  },
  {
   "cell_type": "markdown",
   "metadata": {},
   "source": [
    "When running the code a second time check for the newest hdf5 file and start from the next."
   ]
  },
  {
   "cell_type": "code",
   "execution_count": 1,
   "metadata": {
    "collapsed": false
   },
   "outputs": [
    {
     "name": "stdout",
     "output_type": "stream",
     "text": [
      "/Users/Christian/Documents/Chrede/UBC/Data/InXX_bottom_gates_Mar2016/winfs\n"
     ]
    }
   ],
   "source": [
    "cd ~/Documents/Chrede/UBC/Data/InXX_bottom_gates_Mar2016/winfs/"
   ]
  },
  {
   "cell_type": "code",
   "execution_count": 11,
   "metadata": {
    "collapsed": false
   },
   "outputs": [],
   "source": [
    "f = open(winf_list_full[0])\n",
    "winf_file = f.read()"
   ]
  },
  {
   "cell_type": "code",
   "execution_count": 12,
   "metadata": {
    "collapsed": false
   },
   "outputs": [
    {
     "name": "stdout",
     "output_type": "stream",
     "text": [
      "dat100g2d1x.ibw \n",
      "Wednesday, March 16, 2016 19:00:50 \n",
      "\n",
      "comments: \n",
      "time elapsed 1354.53 seconds \n",
      "sweep (babyDAC): x: -500.00 to 500.00 mV \n",
      " y: -2320.00 to -2370.00 mV \n",
      " bias = 1.000000e-05 V, current amp = 1.000000e-07 A/V \n",
      " num_points x = 251, num_points y = 51\n",
      "Sweeping G3 vs DC bias. G4 = 0mV \n",
      "\n",
      "$$ title =  \n",
      "$$ x_label = DACx (mV) \n",
      "$$ y_label = DACy (mV) \n",
      "$$ z_label = G (S) \n",
      "$$ x_multiplier = 1 \n",
      "$$ y_multiplier = 1 \n",
      "$$ z_multiplier = 0.01 \n",
      "$$ display_thumbnail = False \n",
      "\n"
     ]
    }
   ],
   "source": [
    "print(winf_file)"
   ]
  },
  {
   "cell_type": "code",
   "execution_count": 25,
   "metadata": {
    "collapsed": false
   },
   "outputs": [
    {
     "name": "stdout",
     "output_type": "stream",
     "text": [
      "[('dat1', 'g1x'), ('dat1', 'g1y'), ('dat10', 'g1x'), ('dat10', 'g1y'), ('dat100', 'g2d1x'), ('dat101', 'g2d1x'), ('dat102', 'g2d1x'), ('dat103', 'g2d1x'), ('dat104', 'g2d1x'), ('dat105', 'g2d1x'), ('dat106', 'g2d1x'), ('dat107', 'g2d1x'), ('dat108', 'g2d1x'), ('dat109', 'g2d1x'), ('dat11', 'g1x'), ('dat11', 'g1y'), ('dat110', 'g2d1x'), ('dat111', 'g2d1x'), ('dat112', 'g2d1x'), ('dat113', 'g2d1x'), ('dat114', 'g2d1x'), ('dat115', 'g2d1x'), ('dat116', 'g2d1x'), ('dat117', 'g2d1x'), ('dat118', 'g2d1x'), ('dat119', 'g2d1x'), ('dat12', 'g1x'), ('dat12', 'g1y'), ('dat120', 'g2d1x'), ('dat121', 'g2d1x'), ('dat122', 'g2d1x'), ('dat123', 'g2d1x'), ('dat124', 'g2d1x'), ('dat125', 'g2d1x'), ('dat126', 'g1x'), ('dat126', 'g1y'), ('dat127', 'g2d1x'), ('dat128', 'g2d1x'), ('dat129', 'g2d1x'), ('dat13', 'g1x'), ('dat13', 'g1y'), ('dat130', 'g1x'), ('dat130', 'g1y'), ('dat131', 'g1x'), ('dat131', 'g1y'), ('dat132', 'g1x'), ('dat132', 'g1y'), ('dat133', 'g1x'), ('dat133', 'g1y'), ('dat134', 'g1x'), ('dat134', 'g1y'), ('dat135', 'g1x'), ('dat135', 'g1y'), ('dat136', 'g1x'), ('dat136', 'g1y'), ('dat137', 'g1x'), ('dat137', 'g1y'), ('dat138', 'g1x'), ('dat138', 'g1y'), ('dat139', 'g1x'), ('dat139', 'g1y'), ('dat14', 'g2d1x'), ('dat140', 'g1x'), ('dat140', 'g1y'), ('dat141', 'g1x'), ('dat141', 'g1y'), ('dat142', 'g1x'), ('dat142', 'g1y'), ('dat143', 'g1x'), ('dat143', 'g1y'), ('dat144', 'g1x'), ('dat144', 'g1y'), ('dat145', 'g1x'), ('dat145', 'g1y'), ('dat146', 'g2d1x'), ('dat147', 'g2d1x'), ('dat148', 'g2d1x'), ('dat149', 'g2d1x'), ('dat15', 'g1x'), ('dat15', 'g1y'), ('dat150', 'g2d1x'), ('dat151', 'g2d1x'), ('dat152', 'g2d1x'), ('dat153', 'g2d1x'), ('dat154', 'g2d1x'), ('dat155', 'g2d1x'), ('dat156', 'g2d1x'), ('dat157', 'g2d1x'), ('dat158', 'g2d1x'), ('dat159', 'g2d1x'), ('dat16', 'g1x'), ('dat16', 'g1y'), ('dat160', 'g2d1x'), ('dat161', 'g2d1x'), ('dat162', 'g2d1x'), ('dat163', 'g2d1x'), ('dat164', 'g2d1x'), ('dat165', 'g2d1x'), ('dat166', 'g2d1x'), ('dat167', 'g2d1x'), ('dat168', 'g2d1x'), ('dat169', 'g1x'), ('dat169', 'g1y'), ('dat17', 'g1x'), ('dat17', 'g1y'), ('dat170', 'g2d1x'), ('dat18', 'g1x'), ('dat18', 'g1y'), ('dat19', 'g1x'), ('dat19', 'g1y'), ('dat2', 'g1x'), ('dat2', 'g1y'), ('dat20', 'g1x'), ('dat20', 'g1y'), ('dat21', 'g1x'), ('dat21', 'g1y'), ('dat22', 'g1x'), ('dat22', 'g1y'), ('dat23', 'g1x'), ('dat23', 'g1y'), ('dat24', 'g1x'), ('dat24', 'g1y'), ('dat25', 'g1x'), ('dat25', 'g1y'), ('dat26', 'g1x'), ('dat26', 'g1y'), ('dat27', 'g1x'), ('dat27', 'g1y'), ('dat28', 'g1x'), ('dat28', 'g1y'), ('dat29', 'g1x'), ('dat29', 'g1y'), ('dat3', 'g1x'), ('dat3', 'g1y'), ('dat30', 'g1x'), ('dat30', 'g1y'), ('dat31', 'g1x'), ('dat31', 'g1y'), ('dat32', 'g1x'), ('dat32', 'g1y'), ('dat33', 'g1x'), ('dat33', 'g1y'), ('dat34', 'g1x'), ('dat34', 'g1y'), ('dat35', 'g1x'), ('dat35', 'g1y'), ('dat36', 'g1x'), ('dat36', 'g1y'), ('dat37', 'g2d1x'), ('dat38', 'g2d1x'), ('dat39', 'g2d1x'), ('dat4', 'g1x'), ('dat4', 'g1y'), ('dat40', 'g1x'), ('dat40', 'g1y'), ('dat41', 'g1x'), ('dat41', 'g1y'), ('dat42', 'g2d1x'), ('dat43', 'g1x'), ('dat43', 'g1y'), ('dat44', 'g2d1x'), ('dat45', 'g1x'), ('dat45', 'g1y'), ('dat46', 'g2d1x'), ('dat47', 'g2d1x'), ('dat48', 'g2d1x'), ('dat49', 'g2d1x'), ('dat5', 'g1x'), ('dat5', 'g1y'), ('dat50', 'g2d1x'), ('dat51', 'g2d1x'), ('dat52', 'g1x'), ('dat52', 'g1y'), ('dat53', 'g1x'), ('dat53', 'g1y'), ('dat54', 'g2d1x'), ('dat55', 'g2d1x'), ('dat56', 'g2d1x'), ('dat57', 'g1x'), ('dat57', 'g1y'), ('dat58', 'g1x'), ('dat58', 'g1y'), ('dat59', 'g2d1x'), ('dat6', 'g1x'), ('dat6', 'g1y'), ('dat60', 'g2d1x'), ('dat61', 'g2d1x'), ('dat62', 'g1x'), ('dat62', 'g1y'), ('dat63', 'g1x'), ('dat63', 'g1y'), ('dat64', 'g1x'), ('dat64', 'g1y'), ('dat65', 'g1x'), ('dat65', 'g1y'), ('dat66', 'g2d1x'), ('dat67', 'g2d1x'), ('dat68', 'g2d1x'), ('dat69', 'g1x'), ('dat69', 'g1y'), ('dat7', 'g1x'), ('dat7', 'g1y'), ('dat70', 'g1x'), ('dat70', 'g1y'), ('dat71', 'g1x'), ('dat71', 'g1y'), ('dat72', 'g1x'), ('dat72', 'g1y'), ('dat73', 'g2d1x'), ('dat74', 'g2d1x'), ('dat75', 'g2d1x'), ('dat76', 'g1x'), ('dat76', 'g1y'), ('dat77', 'g2d1x'), ('dat78', 'g2d1x'), ('dat79', 'g2d1x'), ('dat8', 'g1x'), ('dat8', 'g1y'), ('dat80', 'g1x'), ('dat80', 'g1y'), ('dat81', 'g2d1x'), ('dat82', 'g2d1x'), ('dat83', 'g2d1x'), ('dat84', 'g1x'), ('dat84', 'g1y'), ('dat85', 'g2d1x'), ('dat86', 'g2d1x'), ('dat87', 'g1x'), ('dat87', 'g1y'), ('dat88', 'g1x'), ('dat88', 'g1y'), ('dat89', 'g1x'), ('dat89', 'g1y'), ('dat9', 'g1x'), ('dat9', 'g1y'), ('dat90', 'g1x'), ('dat90', 'g1y'), ('dat91', 'g2d1x'), ('dat92', 'g2d1x'), ('dat93', 'g2d1x'), ('dat94', 'g2d1x'), ('dat95', 'g2d1x'), ('dat96', 'g2d1x'), ('dat97', 'g2d1x'), ('dat98', 'g2d1x'), ('dat99', 'g2d1x')]\n"
     ]
    }
   ],
   "source": [
    "print(dat_list)"
   ]
  },
  {
   "cell_type": "code",
   "execution_count": null,
   "metadata": {
    "collapsed": true
   },
   "outputs": [],
   "source": []
  }
 ],
 "metadata": {
  "kernelspec": {
   "display_name": "Python 3",
   "language": "python",
   "name": "python3"
  },
  "language_info": {
   "codemirror_mode": {
    "name": "ipython",
    "version": 3
   },
   "file_extension": ".py",
   "mimetype": "text/x-python",
   "name": "python",
   "nbconvert_exporter": "python",
   "pygments_lexer": "ipython3",
   "version": "3.4.4"
  },
  "widgets": {
   "state": {},
   "version": "1.1.0"
  }
 },
 "nbformat": 4,
 "nbformat_minor": 0
}
